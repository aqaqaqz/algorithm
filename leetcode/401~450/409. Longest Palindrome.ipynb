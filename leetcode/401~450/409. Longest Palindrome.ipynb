class Solution {
public:
    int longestPalindrome(string s) {
        unordered_map<char, int> m;
        for(char c : s) m[c]++;
        
        bool odd = false;
        int result = 0;
        for(auto iter = m.begin();iter!=m.end();iter++){
            if(iter->second%2 == 1){
                odd = true;
                result += (iter->second-1);
            }else result += iter->second;
        }
        return result+(odd?1:0);
    }
};